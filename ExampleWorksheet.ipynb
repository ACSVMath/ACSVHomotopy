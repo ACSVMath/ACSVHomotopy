{
 "cells": [
  {
   "cell_type": "markdown",
   "id": "7f7fbeb2-4ae5-4821-b62d-3d85b9018097",
   "metadata": {},
   "source": [
    "# ACSVHomotopy\n",
    "## Setup\n",
    "Import and activate the locally stored ACSVHomotopy package. The package reexports `@polyvar` along with functionality from HomotopyContinuation for working with polynomials."
   ]
  },
  {
   "cell_type": "code",
   "execution_count": 1,
   "id": "1ae3fb4f-2338-4f4e-aa39-92b5cefe1680",
   "metadata": {},
   "outputs": [
    {
     "name": "stderr",
     "output_type": "stream",
     "text": [
      "\u001b[32m\u001b[1m  Activating\u001b[22m\u001b[39m project at `~/Desktop/Projects/ACSVHomotopy`\n"
     ]
    }
   ],
   "source": [
    "# If you don't already have HomotopyContinuation.jl installed this might take a while\n",
    "using Pkg\n",
    "Pkg.activate(\".\")\n",
    "using ACSVHomotopy"
   ]
  },
  {
   "cell_type": "markdown",
   "id": "9deee87f-804c-4b54-8c39-b3bc40afdd0c",
   "metadata": {},
   "source": [
    "## Example Usage\n",
    "Consider first the rational function\n",
    "$$ F(x,y,z) = \\frac{1}{1-(1+z)(x+y-xy)},$$\n",
    "whose main diagonal is related to one of Apéry's irrationality proofs."
   ]
  },
  {
   "cell_type": "code",
   "execution_count": 2,
   "id": "37d1857c",
   "metadata": {},
   "outputs": [
    {
     "data": {
      "text/latex": [
       "$$ xyz + xy - xz - yz - x - y + 1 $$"
      ],
      "text/plain": [
       "xyz + xy - xz - yz - x - y + 1"
      ]
     },
     "execution_count": 2,
     "metadata": {},
     "output_type": "execute_result"
    }
   ],
   "source": [
    "# Define the polynomial\n",
    "@polyvar x y z\n",
    "H = 1-(1+z)*(x+y-x*y)"
   ]
  },
  {
   "cell_type": "code",
   "execution_count": 3,
   "id": "e26fdde6",
   "metadata": {},
   "outputs": [
    {
     "data": {
      "text/plain": [
       "3-element Vector{Vector{ComplexF64}}:\n",
       " [0.9999999999999999 + 0.0im, 0.9999999999999999 + 4.591774807899561e-41im, 6.293253624448641e-17 - 2.2958874039497803e-41im]\n",
       " [2.618033988749895 + 1.401298464324817e-45im, 2.618033988749895 + 1.7516230804060213e-45im, -1.618033988749895 + 8.758115402030107e-47im]\n",
       " [0.38196601125010504 - 1.7516230804060213e-46im, 0.38196601125010504 - 9.85287982728387e-47im, 0.6180339887498951 + 3.503246160812043e-46im]"
      ]
     },
     "execution_count": 3,
     "metadata": {},
     "output_type": "execute_result"
    }
   ],
   "source": [
    "# Smooth critical points can easily be approximated by solving the smooth critical point system.\n",
    "# Note: This step is not necessary to use our methods, we just include it for discussion.\n",
    "function get_crits(h)\n",
    "    vars = variables(h)\n",
    "    n = length(vars)\n",
    "    @polyvar λ\n",
    "    sys = System([h; vars .* differentiate(h, vars) - λ], variables=[vars; λ])\n",
    "    return [sol[1:end-1] for sol in solutions(solve(sys, show_progress=false))]\n",
    "end\n",
    "\n",
    "# In this case, we get three critical points. But which (if any) is minimal?\n",
    "crits = get_crits(H)"
   ]
  },
  {
   "cell_type": "code",
   "execution_count": 4,
   "id": "5f5b1c8f",
   "metadata": {},
   "outputs": [
    {
     "data": {
      "text/plain": [
       "1-element Vector{Vector{ComplexF64}}:\n",
       " [0.3819660112501051 + 5.877471754111438e-39im, 0.3819660112501051 + 5.877471754111438e-39im, 0.6180339887498949 + 2.350988701644575e-38im]"
      ]
     },
     "execution_count": 4,
     "metadata": {},
     "output_type": "execute_result"
    }
   ],
   "source": [
    "# Knowing that F is combinatorial we can get the minimal critical point as follows\n",
    "min_cp = find_min_crits_comb(H)"
   ]
  },
  {
   "cell_type": "code",
   "execution_count": 5,
   "id": "8148be56",
   "metadata": {},
   "outputs": [
    {
     "data": {
      "text/plain": [
       "\"(0.09016994374947422 + 6.20501202900196e-39im)^(-n) n^(-1.0) ((0.4767251395617113 - 9.688970898543992e-38im))\""
      ]
     },
     "execution_count": 5,
     "metadata": {},
     "output_type": "execute_result"
    }
   ],
   "source": [
    "# Knowing the minimal critical point, we can get the leading asymptotic term\n",
    "# The exponential growth implies irrationality of zeta(2) (which can also be shown using other methods)\n",
    "leading_asymptotics(1,H,min_cp)"
   ]
  },
  {
   "cell_type": "code",
   "execution_count": 6,
   "id": "322ce09b",
   "metadata": {},
   "outputs": [
    {
     "name": "stdout",
     "output_type": "stream",
     "text": [
      "\r",
      "\u001b[32mTracking 36720 paths... 100%|███████████████████████████| Time: 0:07:31\u001b[39m\r\n",
      "\u001b[34m  # paths tracked:                  36720\u001b[39m\r\n",
      "\u001b[34m  # non-singular solutions (real):  16 (0)\u001b[39m\r\n",
      "\u001b[34m  # singular endpoints (real):      60 (0)\u001b[39m\r\n",
      "\u001b[34m  # total solutions (real):         76 (0)\u001b[39m\n"
     ]
    },
    {
     "data": {
      "text/plain": [
       "1-element Vector{Vector{ComplexF64}}:\n",
       " [0.38196601125010515 + 0.0im, 0.38196601125010515 + 1.8367099231598242e-40im, 0.6180339887498947 - 7.346839692639297e-40im]"
      ]
     },
     "execution_count": 6,
     "metadata": {},
     "output_type": "execute_result"
    }
   ],
   "source": [
    "# It's not obvious from the definition that F is combinatorial. If we can't assume this, \n",
    "# then we can use the (much more expensive) find_min_crits command.\n",
    "# WARNING: This cell takes 10 - 20 MINUTES to run\n",
    "# We pass the show_progress=true flag to see the progess of the homotopy solver as it runs\n",
    "find_min_crits(H; show_progress=true)"
   ]
  },
  {
   "cell_type": "code",
   "execution_count": 7,
   "id": "4e39c6ca",
   "metadata": {},
   "outputs": [
    {
     "data": {
      "text/plain": [
       "1-element Vector{Vector{ComplexF64}}:\n",
       " [0.3819660112501052 - 2.311115933264683e-33im, 0.3819660112501052 + 0.0im, 0.6180339887498947 + 9.14816723583937e-34im]"
      ]
     },
     "execution_count": 7,
     "metadata": {},
     "output_type": "execute_result"
    }
   ],
   "source": [
    "# The general code is very expensive. If we want to use the numeric approximation approach\n",
    "# of the paper, we can obtain the same point in a less rigorous manner much faster.\n",
    "find_min_crits(H, approx_crit=true)"
   ]
  },
  {
   "cell_type": "code",
   "execution_count": 8,
   "id": "2c1e9333",
   "metadata": {},
   "outputs": [
    {
     "data": {
      "text/plain": [
       "1-element Vector{Vector{ComplexF64}}:\n",
       " [0.38196601125010515 - 6.244813738743402e-39im, 0.38196601125010515 - 4.775445800215543e-39im, 0.6180339887498947 + 1.4693679385278594e-38im]"
      ]
     },
     "execution_count": 8,
     "metadata": {},
     "output_type": "execute_result"
    }
   ],
   "source": [
    "# We can also use the monodromy approach from the paper\n",
    "find_min_crits(H, monodromy=true)"
   ]
  },
  {
   "cell_type": "markdown",
   "id": "f65c7550-a2a8-4c8e-b79f-082adf8ce645",
   "metadata": {},
   "source": [
    "## Benchmarking\n",
    "In order to properly bench mark the functions, the each cell should be run twice.\n",
    "The first run of the cell with compile and run the function, the `@time` macro will measure the compilation time plus the running time.\n",
    "On the second run of the cell, the function is compiled and therefore only the running time is measured."
   ]
  },
  {
   "cell_type": "code",
   "execution_count": 43,
   "id": "3b012011",
   "metadata": {},
   "outputs": [],
   "source": [
    "# Define polynomial variables for examples\n",
    "@polyvar w x y z;"
   ]
  },
  {
   "cell_type": "code",
   "execution_count": 19,
   "id": "a0281322",
   "metadata": {},
   "outputs": [
    {
     "name": "stdout",
     "output_type": "stream",
     "text": [
      "  0.005278 seconds (16.86 k allocations: 893.383 KiB)\n",
      "  0.040406 seconds (113.55 k allocations: 5.896 MiB)\n",
      "  0.019672 seconds (74.59 k allocations: 3.543 MiB)\n",
      "  2.294933 seconds (12.08 M allocations: 523.298 MiB, 6.37% gc time)\n"
     ]
    }
   ],
   "source": [
    "# Binomial coefficients\n",
    "H = 1 - x - y\n",
    "@time find_min_crits_comb(H);\n",
    "@time find_min_crits(H);\n",
    "@time find_min_crits(H; approx_crit=true);\n",
    "@time find_min_crits(H; monodromy=true);"
   ]
  },
  {
   "cell_type": "code",
   "execution_count": 20,
   "id": "27b9737e-c2a3-4841-a64e-0639c8f04d20",
   "metadata": {},
   "outputs": [
    {
     "name": "stdout",
     "output_type": "stream",
     "text": [
      "  0.028840 seconds (35.90 k allocations: 1.691 MiB)\n",
      "  4.137446 seconds (503.76 k allocations: 22.608 MiB)\n",
      "  0.336834 seconds (615.59 k allocations: 27.538 MiB)\n",
      "  2.837442 seconds (12.14 M allocations: 496.231 MiB, 4.03% gc time)\n"
     ]
    }
   ],
   "source": [
    "# Melczer Salvy example of two positive real critical points\n",
    "H = (1-x-y)*(20-x-40*y)-1 \n",
    "@time find_min_crits_comb(H);\n",
    "@time find_min_crits(H);\n",
    "@time find_min_crits(H; approx_crit=true);\n",
    "@time find_min_crits(H; monodromy=true);"
   ]
  },
  {
   "cell_type": "code",
   "execution_count": 25,
   "id": "b39e0e3c-476a-4f17-8a87-d4d346414048",
   "metadata": {},
   "outputs": [
    {
     "name": "stdout",
     "output_type": "stream",
     "text": [
      "  0.010525 seconds (26.59 k allocations: 1.265 MiB)\n",
      " 29.567463 seconds (1.75 M allocations: 62.426 MiB, 0.10% gc time)\n",
      "  0.717018 seconds (665.70 k allocations: 29.158 MiB)\n",
      " 14.880803 seconds (31.64 M allocations: 1.217 GiB, 1.89% gc time)\n"
     ]
    }
   ],
   "source": [
    "# Related to asymptotics of sqrt(1-z)\n",
    "H = 1 - x*y - x*y^2 - 2*x^2*y aa\n",
    "@time find_min_crits_comb(H);\n",
    "@time find_min_crits(H);\n",
    "@time find_min_crits(H; approx_crit=true);\n",
    "@time find_min_crits(H; monodromy=true);"
   ]
  },
  {
   "cell_type": "code",
   "execution_count": 22,
   "id": "68064192-dd61-480c-9a1b-44146b5ef8fd",
   "metadata": {},
   "outputs": [
    {
     "name": "stderr",
     "output_type": "stream",
     "text": [
      "\r",
      "\u001b[32mComputing mixed cells... 1499 \t Time: 0:00:00\u001b[39m\r\n",
      "\u001b[34m  mixed_volume:  13068\u001b[39m\n"
     ]
    },
    {
     "name": "stdout",
     "output_type": "stream",
     "text": [
      "236.717911 seconds (9.71 M allocations: 248.729 MiB, 0.03% gc time)\n",
      "  3.582242 seconds (953.89 k allocations: 39.776 MiB)\n",
      "  3.846443 seconds (4.12 M allocations: 168.022 MiB, 1.85% gc time)\n"
     ]
    }
   ],
   "source": [
    "# Gillis-Reznick-Zeilberger function\n",
    "H = 1 - (x+y+z) + 5*x*y*z\n",
    "@time find_min_crits(H);\n",
    "@time find_min_crits(H; approx_crit=true);\n",
    "@time find_min_crits(H; monodromy=true);"
   ]
  },
  {
   "cell_type": "code",
   "execution_count": 23,
   "id": "dd10edd0",
   "metadata": {},
   "outputs": [
    {
     "name": "stderr",
     "output_type": "stream",
     "text": [
      "\r",
      "\u001b[32mComputing mixed cells... 2333 \t Time: 0:00:02\u001b[39m\r\n",
      "\u001b[34m  mixed_volume:  36720\u001b[39m\n"
     ]
    },
    {
     "name": "stdout",
     "output_type": "stream",
     "text": [
      "669.286671 seconds (21.70 M allocations: 588.746 MiB, 0.02% gc time)\n",
      "  3.812803 seconds (685.75 k allocations: 29.921 MiB)\n",
      "  8.568219 seconds (45.00 M allocations: 1.871 GiB, 5.10% gc time)\n"
     ]
    }
   ],
   "source": [
    "# Apéry zeta(2)\n",
    "H = 1-(1+z)*(x+y-x*y)\n",
    "@time find_min_crits(H);\n",
    "@time find_min_crits(H; approx_crit=true);\n",
    "@time find_min_crits(H; monodromy=true);"
   ]
  },
  {
   "cell_type": "code",
   "execution_count": 24,
   "id": "c16c6545-8d73-4f46-b5a0-79ab688c8001",
   "metadata": {},
   "outputs": [
    {
     "name": "stdout",
     "output_type": "stream",
     "text": [
      "  0.086118 seconds (70.67 k allocations: 3.302 MiB)\n",
      "189.421242 seconds (13.67 M allocations: 522.053 MiB, 0.04% gc time)\n",
      "583.118787 seconds (682.06 M allocations: 24.238 GiB, 0.90% gc time)\n"
     ]
    }
   ],
   "source": [
    "# Random poly of degree 4\n",
    "H = 1 - (72*x^3*z + 97*y*z^3 + 53*x*z^2 + 47*x*y + 39*z^2 + 71*x)\n",
    "@time find_min_crits_comb(H);\n",
    "@time find_min_crits(H; approx_crit=true);\n",
    "@time find_min_crits(H; monodromy=true);"
   ]
  },
  {
   "cell_type": "code",
   "execution_count": 52,
   "id": "e8ee6bb8",
   "metadata": {},
   "outputs": [
    {
     "name": "stdout",
     "output_type": "stream",
     "text": [
      "  0.032641 seconds (51.61 k allocations: 2.303 MiB)\n",
      " 15.298483 seconds (1.30 M allocations: 52.189 MiB, 0.18% gc time)\n",
      " 31.895528 seconds (174.84 M allocations: 6.555 GiB, 4.73% gc time)\n"
     ]
    }
   ],
   "source": [
    "# 2D lattice path example\n",
    "H = 1 - z*x^2*y - z*x*y^2 - z*x - z*y\n",
    "@time find_min_crits_comb(H);\n",
    "@time find_min_crits(H; approx_crit=true);\n",
    "@time find_min_crits(H; monodromy=true);"
   ]
  },
  {
   "cell_type": "code",
   "execution_count": 27,
   "id": "61bc2830",
   "metadata": {},
   "outputs": [
    {
     "name": "stdout",
     "output_type": "stream",
     "text": [
      "  0.078442 seconds (69.97 k allocations: 3.193 MiB)\n"
     ]
    }
   ],
   "source": [
    "# 3D lattice path example\n",
    "H = 1 - w*x^2*y*z - w*x*y^2*z - w*x*y*z^2 - w*x*y - w*x*z - w*y*z\n",
    "@time find_min_crits_comb(H);"
   ]
  },
  {
   "cell_type": "code",
   "execution_count": 28,
   "id": "401a1f0b",
   "metadata": {},
   "outputs": [
    {
     "data": {
      "text/latex": [
       "$$ -z^{4} - w^{3} - y^{2} - x + 1 $$"
      ],
      "text/plain": [
       "-z⁴ - w³ - y² - x + 1"
      ]
     },
     "execution_count": 28,
     "metadata": {},
     "output_type": "execute_result"
    }
   ],
   "source": [
    "# High degree example\n",
    "@polyvar x y w z\n",
    "H = 1-x-y^2-w^3-z^4\n",
    "@time find_min_crits_comb(H);"
   ]
  },
  {
   "cell_type": "code",
   "execution_count": 18,
   "id": "61fed042",
   "metadata": {},
   "outputs": [],
   "source": [
    "# Apéry zeta(3)\n",
    "H = 1 - w*(1 + x)*(1 + y)*(1 + z)*(x*y*z + y*z + y + z + 1) \n",
    "@time find_min_crits_comb(H);"
   ]
  },
  {
   "cell_type": "code",
   "execution_count": null,
   "id": "fae395b5",
   "metadata": {},
   "outputs": [],
   "source": []
  },
  {
   "cell_type": "code",
   "execution_count": 55,
   "id": "6f1f5c2d",
   "metadata": {},
   "outputs": [
    {
     "name": "stdout",
     "output_type": "stream",
     "text": [
      "  0.094155 seconds (70.46 k allocations: 3.294 MiB)\n"
     ]
    },
    {
     "data": {
      "text/plain": [
       "1-element Vector{Vector{ComplexF64}}:\n",
       " [0.0019610122684803376 + 5.510129769479473e-40im, 6.226109324307809 - 7.52316384526264e-37im, 0.0613747857015874 + 0.0im]"
      ]
     },
     "execution_count": 55,
     "metadata": {},
     "output_type": "execute_result"
    }
   ],
   "source": [
    "H = 1 - (72*x^3*z + 97*y*z^3 + 53*x*z^2 + 47*x*y + 39*z^2 + 71*x)\n",
    "@time find_min_crits_comb(H)"
   ]
  },
  {
   "cell_type": "code",
   "execution_count": null,
   "id": "26e4b7d4",
   "metadata": {},
   "outputs": [],
   "source": []
  }
 ],
 "metadata": {
  "@webio": {
   "lastCommId": null,
   "lastKernelId": null
  },
  "kernelspec": {
   "display_name": "Julia 1.7.1",
   "language": "julia",
   "name": "julia-1.7"
  },
  "language_info": {
   "file_extension": ".jl",
   "mimetype": "application/julia",
   "name": "julia",
   "version": "1.7.1"
  }
 },
 "nbformat": 4,
 "nbformat_minor": 5
}
