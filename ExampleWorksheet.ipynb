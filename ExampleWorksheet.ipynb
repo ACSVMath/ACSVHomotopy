{
 "cells": [
  {
   "cell_type": "markdown",
   "id": "7f7fbeb2-4ae5-4821-b62d-3d85b9018097",
   "metadata": {},
   "source": [
    "# ACSVHomotopy\n",
    "## Setup\n",
    "Import and activate the locally stored ACSVHomotopy package. The package reexports `@polyvar` along with functionality from HomotopyContinuation for working with polynomials."
   ]
  },
  {
   "cell_type": "code",
   "execution_count": 1,
   "id": "1ae3fb4f-2338-4f4e-aa39-92b5cefe1680",
   "metadata": {},
   "outputs": [
    {
     "name": "stderr",
     "output_type": "stream",
     "text": [
      "\u001b[32m\u001b[1m  Activating\u001b[22m\u001b[39m project at `~/Desktop/Projects/ACSVMath-ACSVHomotopy`\n",
      "┌ Info: Precompiling ACSVHomotopy [aec64979-1285-4ff6-b7ad-06ab3746491a]\n",
      "└ @ Base loading.jl:1423\n"
     ]
    }
   ],
   "source": [
    "# If you don't already have HomotopyContinuation.jl installed this might take a while\n",
    "using Pkg\n",
    "Pkg.activate(\".\")\n",
    "using ACSVHomotopy"
   ]
  },
  {
   "cell_type": "markdown",
   "id": "9deee87f-804c-4b54-8c39-b3bc40afdd0c",
   "metadata": {},
   "source": [
    "## Example Usage\n",
    "Consider first the rational function\n",
    "$$ F(x,y,z) = \\frac{1}{1-(1+z)(x+y-xy)},$$\n",
    "whose main diagonal is related to one of Apéry's irrationality proofs."
   ]
  },
  {
   "cell_type": "code",
   "execution_count": 2,
   "id": "37d1857c",
   "metadata": {},
   "outputs": [
    {
     "data": {
      "text/latex": [
       "$$ xyz + xy - xz - yz - x - y + 1 $$"
      ],
      "text/plain": [
       "xyz + xy - xz - yz - x - y + 1"
      ]
     },
     "execution_count": 2,
     "metadata": {},
     "output_type": "execute_result"
    }
   ],
   "source": [
    "# Define the polynomial\n",
    "@polyvar x y z\n",
    "H = 1-(1+z)*(x+y-x*y)"
   ]
  },
  {
   "cell_type": "code",
   "execution_count": 3,
   "id": "e26fdde6",
   "metadata": {},
   "outputs": [
    {
     "data": {
      "text/plain": [
       "3-element Vector{Vector{ComplexF64}}:\n",
       " [0.38196601125010526 + 3.76158192263132e-37im, 0.38196601125010526 + 1.9983403963978888e-37im, 0.6180339887498947 + 1.88079096131566e-37im]\n",
       " [2.618033988749895 + 3.851859888774472e-34im, 2.618033988749895 - 3.851859888774472e-34im, -1.6180339887498947 - 2.407412430484045e-35im]\n",
       " [1.0 + 0.0im, 1.0 + 0.0im, -2.5632011150913368e-17 + 0.0im]"
      ]
     },
     "execution_count": 3,
     "metadata": {},
     "output_type": "execute_result"
    }
   ],
   "source": [
    "# Smooth critical points can easily be approximated by solving the smooth critical point system.\n",
    "# Note: This step is not necessary to use our methods, we just include it for discussion.\n",
    "function get_crits(h)\n",
    "    vars = variables(h)\n",
    "    n = length(vars)\n",
    "    @polyvar λ\n",
    "    sys = System([h; vars .* differentiate(h, vars) - λ], variables=[vars; λ])\n",
    "    return [sol[1:end-1] for sol in solutions(solve(sys, show_progress=false))]\n",
    "end\n",
    "\n",
    "# In this case, we get three critical points. But which (if any) is minimal?\n",
    "crits = get_crits(H)"
   ]
  },
  {
   "cell_type": "code",
   "execution_count": 4,
   "id": "5f5b1c8f",
   "metadata": {},
   "outputs": [
    {
     "data": {
      "text/plain": [
       "1-element Vector{Vector{Float64}}:\n",
       " [0.3819660112501051, 0.3819660112501051, 0.6180339887498949]"
      ]
     },
     "execution_count": 4,
     "metadata": {},
     "output_type": "execute_result"
    }
   ],
   "source": [
    "# Knowing that F is combinatorial we can get the minimal critical point as follows\n",
    "min_cp = find_min_crits_comb(H)"
   ]
  },
  {
   "cell_type": "code",
   "execution_count": 5,
   "id": "8148be56",
   "metadata": {},
   "outputs": [
    {
     "data": {
      "text/plain": [
       "\"(0.09016994374947422)^(-n) n^(-1.0) (0.3544432672196469 + 0.0im)\""
      ]
     },
     "execution_count": 5,
     "metadata": {},
     "output_type": "execute_result"
    }
   ],
   "source": [
    "# Knowing the minimal critical point, we can get the leading asymptotic term\n",
    "# The exponential growth implies irrationality of zeta(2) (which can also be shown using other methods)\n",
    "leading_asymptotics(1,H,min_cp)"
   ]
  },
  {
   "cell_type": "code",
   "execution_count": 6,
   "id": "322ce09b",
   "metadata": {},
   "outputs": [
    {
     "name": "stdout",
     "output_type": "stream",
     "text": [
      "\r",
      "\u001b[32mTracking 36720 paths... 100%|███████████████████████████| Time: 0:09:13\u001b[39m\r\n",
      "\u001b[34m  # paths tracked:                  36720\u001b[39m\r\n",
      "\u001b[34m  # non-singular solutions (real):  16 (0)\u001b[39m\r\n",
      "\u001b[34m  # singular endpoints (real):      60 (0)\u001b[39m\r\n",
      "\u001b[34m  # total solutions (real):         76 (0)\u001b[39m\n"
     ]
    },
    {
     "data": {
      "text/plain": [
       "1-element Vector{Vector{Float64}}:\n",
       " [0.3819660112501051, 0.3819660112501051, 0.6180339887498949]"
      ]
     },
     "execution_count": 6,
     "metadata": {},
     "output_type": "execute_result"
    }
   ],
   "source": [
    "# It's not obvious from the definition that F is combinatorial. If we can't assume this, \n",
    "# then we can use the (much more expensive) find_min_crits command.\n",
    "# WARNING: This cell takes 10 - 20 MINUTES to run\n",
    "# We pass the show_progress=true flag to see the progess of the homotopy solver as it runs\n",
    "find_min_crits(H; show_progress=true)"
   ]
  },
  {
   "cell_type": "code",
   "execution_count": 7,
   "id": "4e39c6ca",
   "metadata": {},
   "outputs": [
    {
     "data": {
      "text/plain": [
       "1-element Vector{Vector{Float64}}:\n",
       " [0.3819660112501051, 0.3819660112501051, 0.6180339887498949]"
      ]
     },
     "execution_count": 7,
     "metadata": {},
     "output_type": "execute_result"
    }
   ],
   "source": [
    "# The general code is very expensive. If we want to use the numeric approximation approach\n",
    "# of the paper, we can obtain the same point in a less rigorous manner much faster.\n",
    "find_min_crits(H, approx_crit=true)"
   ]
  },
  {
   "cell_type": "code",
   "execution_count": 8,
   "id": "2c1e9333",
   "metadata": {},
   "outputs": [
    {
     "data": {
      "text/plain": [
       "1-element Vector{Vector{Float64}}:\n",
       " [0.3819660112501051, 0.3819660112501051, 0.6180339887498949]"
      ]
     },
     "execution_count": 8,
     "metadata": {},
     "output_type": "execute_result"
    }
   ],
   "source": [
    "# We can also use the monodromy approach from the paper\n",
    "find_min_crits(H, monodromy=true)"
   ]
  },
  {
   "cell_type": "markdown",
   "id": "f65c7550-a2a8-4c8e-b79f-082adf8ce645",
   "metadata": {},
   "source": [
    "## Benchmarking\n",
    "We now run the benchmark examples used in the paper. Note that unlike the paper **here we include compile time**. You can see how much of the runtime was spent on the compilation in the timing output."
   ]
  },
  {
   "cell_type": "code",
   "execution_count": 9,
   "id": "3b012011",
   "metadata": {},
   "outputs": [],
   "source": [
    "# Define polynomial variables for examples\n",
    "@polyvar w x y z;"
   ]
  },
  {
   "cell_type": "code",
   "execution_count": 10,
   "id": "a0281322",
   "metadata": {},
   "outputs": [
    {
     "name": "stdout",
     "output_type": "stream",
     "text": [
      "  7.982619 seconds (12.49 M allocations: 625.723 MiB, 2.16% gc time, 99.81% compilation time)\n",
      " 12.133083 seconds (19.17 M allocations: 943.212 MiB, 2.25% gc time, 99.62% compilation time)\n",
      " 12.448644 seconds (18.73 M allocations: 939.023 MiB, 4.74% gc time, 99.71% compilation time)\n",
      "  5.754329 seconds (18.40 M allocations: 845.835 MiB, 3.88% gc time, 59.63% compilation time)\n"
     ]
    }
   ],
   "source": [
    "# Binomial coefficients\n",
    "H = 1 - x - y\n",
    "@time find_min_crits_comb(H);\n",
    "@time find_min_crits(H);\n",
    "@time find_min_crits(H; approx_crit=true);\n",
    "@time find_min_crits(H; monodromy=true);"
   ]
  },
  {
   "cell_type": "code",
   "execution_count": 11,
   "id": "27b9737e-c2a3-4841-a64e-0639c8f04d20",
   "metadata": {},
   "outputs": [
    {
     "name": "stdout",
     "output_type": "stream",
     "text": [
      "  8.155952 seconds (12.01 M allocations: 600.434 MiB, 2.23% gc time, 99.61% compilation time)\n",
      " 17.542391 seconds (22.37 M allocations: 1.053 GiB, 1.75% gc time, 76.69% compilation time)\n",
      " 12.784650 seconds (19.43 M allocations: 955.091 MiB, 3.72% gc time, 95.25% compilation time)\n",
      " 10.833561 seconds (22.14 M allocations: 1.043 GiB, 3.87% gc time, 84.78% compilation time)\n"
     ]
    }
   ],
   "source": [
    "# Melczer Salvy example of two positive real critical points\n",
    "H = (1-x-y)*(20-x-40*y)-1 \n",
    "@time find_min_crits_comb(H);\n",
    "@time find_min_crits(H);\n",
    "@time find_min_crits(H; approx_crit=true);\n",
    "@time find_min_crits(H; monodromy=true);"
   ]
  },
  {
   "cell_type": "code",
   "execution_count": 12,
   "id": "b39e0e3c-476a-4f17-8a87-d4d346414048",
   "metadata": {},
   "outputs": [
    {
     "name": "stdout",
     "output_type": "stream",
     "text": [
      "  7.808429 seconds (11.79 M allocations: 587.296 MiB, 1.98% gc time, 99.65% compilation time)\n",
      " 43.822623 seconds (26.23 M allocations: 1.210 GiB, 0.91% gc time, 33.37% compilation time)\n",
      " 13.482531 seconds (20.65 M allocations: 1005.796 MiB, 3.65% gc time, 94.92% compilation time)\n",
      " 20.561036 seconds (39.19 M allocations: 1.689 GiB, 2.72% gc time, 47.88% compilation time)\n"
     ]
    }
   ],
   "source": [
    "# Related to asymptotics of sqrt(1-z)\n",
    "H = 1 - x*y - x*y^2 - 2*x^2*y\n",
    "@time find_min_crits_comb(H);\n",
    "@time find_min_crits(H);\n",
    "@time find_min_crits(H; approx_crit=true);\n",
    "@time find_min_crits(H; monodromy=true);"
   ]
  },
  {
   "cell_type": "code",
   "execution_count": 13,
   "id": "68064192-dd61-480c-9a1b-44146b5ef8fd",
   "metadata": {},
   "outputs": [
    {
     "name": "stderr",
     "output_type": "stream",
     "text": [
      "\r",
      "\u001b[32mComputing mixed cells... 1079 \t Time: 0:00:00\u001b[39m\r\n",
      "\u001b[34m  mixed_volume:  13068\u001b[39m\n"
     ]
    },
    {
     "name": "stdout",
     "output_type": "stream",
     "text": [
      "284.918124 seconds (41.79 M allocations: 1.772 GiB, 0.20% gc time, 6.74% compilation time)\n",
      " 16.961707 seconds (21.55 M allocations: 1.019 GiB, 1.48% gc time, 76.28% compilation time)\n",
      " 17.369396 seconds (26.15 M allocations: 1.208 GiB, 1.87% gc time, 57.32% compilation time)\n"
     ]
    }
   ],
   "source": [
    "# Gillis-Reznick-Zeilberger function\n",
    "H = 1 - (x+y+z) + 5*x*y*z\n",
    "@time find_min_crits(H);\n",
    "@time find_min_crits(H; approx_crit=true);\n",
    "@time find_min_crits(H; monodromy=true);"
   ]
  },
  {
   "cell_type": "code",
   "execution_count": 14,
   "id": "dd10edd0",
   "metadata": {},
   "outputs": [
    {
     "name": "stderr",
     "output_type": "stream",
     "text": [
      "\r",
      "\u001b[32mComputing mixed cells... 2283 \t Time: 0:00:01\u001b[39m\r\n",
      "\u001b[34m  mixed_volume:  36720\u001b[39m\n"
     ]
    },
    {
     "name": "stdout",
     "output_type": "stream",
     "text": [
      "748.686942 seconds (21.28 M allocations: 576.698 MiB, 0.01% gc time, 0.02% compilation time)\n",
      "  3.387627 seconds (684.34 k allocations: 30.031 MiB, 1.05% gc time)\n",
      "  8.432320 seconds (32.46 M allocations: 1.385 GiB, 7.53% gc time, 35.01% compilation time)\n"
     ]
    }
   ],
   "source": [
    "# Apéry zeta(2)\n",
    "H = 1-(1+z)*(x+y-x*y)\n",
    "@time find_min_crits(H);\n",
    "@time find_min_crits(H; approx_crit=true);\n",
    "@time find_min_crits(H; monodromy=true);"
   ]
  },
  {
   "cell_type": "code",
   "execution_count": 15,
   "id": "c16c6545-8d73-4f46-b5a0-79ab688c8001",
   "metadata": {},
   "outputs": [
    {
     "name": "stdout",
     "output_type": "stream",
     "text": [
      "  8.416391 seconds (12.50 M allocations: 618.293 MiB, 2.33% gc time, 98.28% compilation time)\n",
      "204.055742 seconds (37.17 M allocations: 1.618 GiB, 0.22% gc time, 6.86% compilation time)\n",
      "480.229058 seconds (609.06 M allocations: 22.026 GiB, 1.06% gc time, 2.54% compilation time)\n"
     ]
    }
   ],
   "source": [
    "# Random poly of degree 4\n",
    "H = 1 - (72*x^3*z + 97*y*z^3 + 53*x*z^2 + 47*x*y + 39*z^2 + 71*x)\n",
    "@time find_min_crits_comb(H);\n",
    "@time find_min_crits(H; approx_crit=true);\n",
    "@time find_min_crits(H; monodromy=true);"
   ]
  },
  {
   "cell_type": "code",
   "execution_count": 16,
   "id": "e8ee6bb8",
   "metadata": {},
   "outputs": [
    {
     "name": "stdout",
     "output_type": "stream",
     "text": [
      "  7.944972 seconds (12.18 M allocations: 602.189 MiB, 2.10% gc time, 99.46% compilation time)\n",
      " 31.051635 seconds (26.95 M allocations: 1.253 GiB, 1.91% gc time, 47.85% compilation time)\n",
      " 38.276381 seconds (181.05 M allocations: 6.868 GiB, 4.01% gc time, 6.81% compilation time)\n"
     ]
    }
   ],
   "source": [
    "# 2D lattice path example\n",
    "H = 1 - z*x^2*y - z*x*y^2 - z*x - z*y\n",
    "@time find_min_crits_comb(H);\n",
    "@time find_min_crits(H; approx_crit=true);\n",
    "@time find_min_crits(H; monodromy=true);"
   ]
  },
  {
   "cell_type": "code",
   "execution_count": 17,
   "id": "61bc2830",
   "metadata": {},
   "outputs": [
    {
     "name": "stdout",
     "output_type": "stream",
     "text": [
      "  8.467614 seconds (13.20 M allocations: 644.548 MiB, 1.72% gc time, 99.14% compilation time)\n"
     ]
    }
   ],
   "source": [
    "# 3D lattice path example\n",
    "H = 1 - w*x^2*y*z - w*x*y^2*z - w*x*y*z^2 - w*x*y - w*x*z - w*y*z\n",
    "@time find_min_crits_comb(H);"
   ]
  },
  {
   "cell_type": "code",
   "execution_count": 18,
   "id": "401a1f0b",
   "metadata": {},
   "outputs": [
    {
     "name": "stdout",
     "output_type": "stream",
     "text": [
      "  8.176509 seconds (12.13 M allocations: 605.657 MiB, 2.42% gc time, 98.15% compilation time)\n"
     ]
    }
   ],
   "source": [
    "# High degree example\n",
    "@polyvar x y w z\n",
    "H = 1-x-y^2-w^3-z^4\n",
    "@time find_min_crits_comb(H);"
   ]
  },
  {
   "cell_type": "code",
   "execution_count": 19,
   "id": "61fed042",
   "metadata": {},
   "outputs": [
    {
     "name": "stdout",
     "output_type": "stream",
     "text": [
      " 10.343989 seconds (15.68 M allocations: 751.245 MiB, 2.30% gc time, 89.70% compilation time)\n"
     ]
    }
   ],
   "source": [
    "# Apéry zeta(3)\n",
    "H = 1 - w*(1 + x)*(1 + y)*(1 + z)*(x*y*z + y*z + y + z + 1) \n",
    "@time find_min_crits_comb(H);"
   ]
  },
  {
   "cell_type": "code",
   "execution_count": null,
   "id": "26e4b7d4",
   "metadata": {},
   "outputs": [],
   "source": []
  }
 ],
 "metadata": {
  "@webio": {
   "lastCommId": null,
   "lastKernelId": null
  },
  "kernelspec": {
   "display_name": "Julia 1.7.1",
   "language": "julia",
   "name": "julia-1.7"
  },
  "language_info": {
   "file_extension": ".jl",
   "mimetype": "application/julia",
   "name": "julia",
   "version": "1.7.1"
  }
 },
 "nbformat": 4,
 "nbformat_minor": 5
}
