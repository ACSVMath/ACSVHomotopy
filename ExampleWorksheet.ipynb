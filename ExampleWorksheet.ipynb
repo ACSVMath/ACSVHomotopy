{
 "cells": [
  {
   "cell_type": "markdown",
   "id": "cce02b95",
   "metadata": {},
   "source": [
    "This is currently a placeholder that will be updated soon."
   ]
  },
  {
   "cell_type": "code",
   "execution_count": null,
   "id": "3d1879b3",
   "metadata": {},
   "outputs": [],
   "source": []
  }
 ],
 "metadata": {
  "kernelspec": {
   "display_name": "Julia 1.7.1",
   "language": "julia",
   "name": "julia-1.7"
  },
  "language_info": {
   "file_extension": ".jl",
   "mimetype": "application/julia",
   "name": "julia",
   "version": "1.7.1"
  }
 },
 "nbformat": 4,
 "nbformat_minor": 5
}
